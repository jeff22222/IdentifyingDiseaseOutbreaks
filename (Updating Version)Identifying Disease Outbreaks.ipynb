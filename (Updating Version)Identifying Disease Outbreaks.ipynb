{
  "cells": [
    {
      "metadata": {},
      "cell_type": "markdown",
      "source": "## Read in Data\n"
    },
    {
      "metadata": {
        "trusted": true
      },
      "cell_type": "code",
      "source": "import pandas as pd\n\ndata = pd.read_csv(\"processed_headlines_clustered.csv\", index_col=0).drop(\n    columns=[\"accented_city\", \"pop\"])\n\ndata[['headline', 'city', 'latitude', 'longitude', 'countrycode', 'cluster']].head()",
      "execution_count": 4,
      "outputs": [
        {
          "output_type": "execute_result",
          "execution_count": 4,
          "data": {
            "text/html": "<div>\n<style scoped>\n    .dataframe tbody tr th:only-of-type {\n        vertical-align: middle;\n    }\n\n    .dataframe tbody tr th {\n        vertical-align: top;\n    }\n\n    .dataframe thead th {\n        text-align: right;\n    }\n</style>\n<table border=\"1\" class=\"dataframe\">\n  <thead>\n    <tr style=\"text-align: right;\">\n      <th></th>\n      <th>headline</th>\n      <th>city</th>\n      <th>latitude</th>\n      <th>longitude</th>\n      <th>countrycode</th>\n      <th>cluster</th>\n    </tr>\n  </thead>\n  <tbody>\n    <tr>\n      <th>0</th>\n      <td>Zika Outbreak Hits Miami</td>\n      <td>Miami</td>\n      <td>25.77427</td>\n      <td>-80.19366</td>\n      <td>US</td>\n      <td>0</td>\n    </tr>\n    <tr>\n      <th>1</th>\n      <td>Could Zika Reach New York City?</td>\n      <td>New York City</td>\n      <td>40.71427</td>\n      <td>-74.00597</td>\n      <td>US</td>\n      <td>0</td>\n    </tr>\n    <tr>\n      <th>2</th>\n      <td>First Case of Zika in Miami Beach</td>\n      <td>Miami Beach</td>\n      <td>25.79065</td>\n      <td>-80.13005</td>\n      <td>US</td>\n      <td>0</td>\n    </tr>\n    <tr>\n      <th>3</th>\n      <td>Mystery Virus Spreads in Recife, Brazil</td>\n      <td>Recife</td>\n      <td>-8.05389</td>\n      <td>-34.88111</td>\n      <td>BR</td>\n      <td>1</td>\n    </tr>\n    <tr>\n      <th>4</th>\n      <td>Dallas man comes down with case of Zika</td>\n      <td>Dallas</td>\n      <td>32.78306</td>\n      <td>-96.80667</td>\n      <td>US</td>\n      <td>0</td>\n    </tr>\n  </tbody>\n</table>\n</div>",
            "text/plain": "                                  headline           city  latitude  \\\n0                 Zika Outbreak Hits Miami          Miami  25.77427   \n1          Could Zika Reach New York City?  New York City  40.71427   \n2        First Case of Zika in Miami Beach    Miami Beach  25.79065   \n3  Mystery Virus Spreads in Recife, Brazil         Recife  -8.05389   \n4  Dallas man comes down with case of Zika         Dallas  32.78306   \n\n   longitude countrycode  cluster  \n0  -80.19366          US        0  \n1  -74.00597          US        0  \n2  -80.13005          US        0  \n3  -34.88111          BR        1  \n4  -96.80667          US        0  "
          },
          "metadata": {}
        }
      ]
    },
    {
      "metadata": {
        "trusted": true
      },
      "cell_type": "code",
      "source": "data.info()",
      "execution_count": 5,
      "outputs": [
        {
          "output_type": "stream",
          "text": "<class 'pandas.core.frame.DataFrame'>\nInt64Index: 605 entries, 0 to 646\nData columns (total 6 columns):\nheadline       605 non-null object\ncity           605 non-null object\ncountrycode    605 non-null object\nlatitude       605 non-null float64\nlongitude      605 non-null float64\ncluster        605 non-null int64\ndtypes: float64(2), int64(1), object(3)\nmemory usage: 33.1+ KB\n",
          "name": "stdout"
        }
      ]
    },
    {
      "metadata": {
        "trusted": true
      },
      "cell_type": "code",
      "source": "us_data = data[data[\"countrycode\"] == \"US\"].copy()\nworld_data = data[data[\"countrycode\"] != \"US\"].copy()\n\nprint(f\"There are {len(us_data)} headlines in the US.\")\nprint(f\"There are {len(world_data)} headlines outside the US.\")",
      "execution_count": 6,
      "outputs": [
        {
          "output_type": "stream",
          "text": "There are 304 headlines in the US.\nThere are 301 headlines outside the US.\n",
          "name": "stdout"
        }
      ]
    },
    {
      "metadata": {
        "trusted": true
      },
      "cell_type": "code",
      "source": "def cluster_location(clusterer, data, lat_string=\"latitude\", lon_string=\"longitude\"):\n    \"\"\"\n    Fit a clustering algorithm on location data.\n    \"\"\"\n    features = data[[lat_string, lon_string]].copy()\n    clusterer.fit(features)\n    # Assign the cluster labels\n    data[\"cluster\"] = clusterer.labels_\n    return data",
      "execution_count": 7,
      "outputs": []
    },
    {
      "metadata": {},
      "cell_type": "markdown",
      "source": "# Re-Cluster the Data\n\nLet's apply the DBSCAN clustering method to both datasets separately. This may require different parameters due to the headline distribution; headlines in the United States are more dense than the world headlines."
    },
    {
      "metadata": {
        "trusted": true
      },
      "cell_type": "code",
      "source": "from sklearn.cluster import DBSCAN\n\nus_clusterer = DBSCAN(eps=3, min_samples=10)\nus_data = cluster_location(us_clusterer, us_data)\nus_data['cluster'].value_counts()",
      "execution_count": 8,
      "outputs": [
        {
          "output_type": "execute_result",
          "execution_count": 8,
          "data": {
            "text/plain": " 1    74\n 3    57\n-1    51\n 4    45\n 0    41\n 2    21\n 5    10\n 6     5\nName: cluster, dtype: int64"
          },
          "metadata": {}
        }
      ]
    },
    {
      "metadata": {},
      "cell_type": "markdown",
      "source": "The rest of the world headlines are more spread out, so we will allow greater distance between headlines, setting eps to 10. We will also decrease the number of headlines needed in a cluster to 8."
    },
    {
      "metadata": {
        "trusted": true
      },
      "cell_type": "code",
      "source": "world_clusterer = DBSCAN(eps=10, min_samples=8)\nworld_data = cluster_location(world_clusterer, world_data)\nworld_data['cluster'].value_counts()",
      "execution_count": 9,
      "outputs": [
        {
          "output_type": "execute_result",
          "execution_count": 9,
          "data": {
            "text/plain": "-1    76\n 1    60\n 2    59\n 3    53\n 0    22\n 5    11\n 4    11\n 6     9\nName: cluster, dtype: int64"
          },
          "metadata": {}
        }
      ]
    },
    {
      "metadata": {},
      "cell_type": "markdown",
      "source": "Visualizations"
    },
    {
      "metadata": {
        "trusted": true
      },
      "cell_type": "code",
      "source": "!conda install Basemap\nfrom mpl_toolkits.basemap import Basemap\nimport matplotlib.pyplot as plt\n\nplt.rcParams[\"font.size\"] = 20\n\n# %#matplotlib inline\n\n# Map of only the continental US\nus_m = Basemap(\n    llcrnrlon=-119,\n    llcrnrlat=22,\n    urcrnrlon=-64,\n    urcrnrlat=49,\n    projection=\"lcc\",\n    lat_1=33,\n    lat_2=45,\n    lon_0=-95,\n)\n\n# Convert to map coordinates\nus_data[\"x\"], us_data[\"y\"] = us_m(\n    x=list(us_data[\"longitude\"]), y=list(us_data[\"latitude\"])\n)\n\n# Entire world\nworld_m = Basemap()\n\n# Convert to map coordinates\nworld_data[\"x\"], world_data[\"y\"] = world_m(\n    x=list(world_data[\"longitude\"]), y=list(world_data[\"latitude\"])\n)",
      "execution_count": null,
      "outputs": [
        {
          "output_type": "stream",
          "text": "Solving environment: - ",
          "name": "stdout"
        }
      ]
    },
    {
      "metadata": {
        "trusted": true
      },
      "cell_type": "code",
      "source": "plot_clusters(us_data, True)",
      "execution_count": null,
      "outputs": []
    },
    {
      "metadata": {
        "trusted": true
      },
      "cell_type": "code",
      "source": "plot_clusters(world_data, False)",
      "execution_count": null,
      "outputs": []
    },
    {
      "metadata": {},
      "cell_type": "markdown",
      "source": "# Analyze World Clusters"
    },
    {
      "metadata": {},
      "cell_type": "markdown",
      "source": "## Cluster Centers"
    },
    {
      "metadata": {
        "trusted": true
      },
      "cell_type": "code",
      "source": "import math\n\n\ndef find_centroid(data):\n    \"\"\"\n    Calculate the centroid of geographic points.\n    \n    Based on https://stackoverflow.com/a/57346455/5755357\n    \"\"\"\n\n    x = 0\n    y = 0\n    z = 0\n\n    # Iterate through each coordinate in radians\n    for longitude, latitude in zip(data[\"longitude\"], data[\"latitude\"]):\n        longitude, latitude = math.radians(longitude), math.radians(latitude)\n        # Convert to a 3D position in radians\n        x += math.cos(latitude) * math.cos(longitude)\n        y += math.cos(latitude) * math.sin(longitude)\n        z += math.sin(latitude)\n\n    # Get the averages of each radians\n    n = len(data)\n    x /= n\n    y /= n\n    z /= n\n\n    # Apply formula\n    central_longitude = math.atan2(y, x)\n    central_square_root = math.sqrt(x ** 2 + y ** 2)\n    central_latitude = math.atan2(z, central_square_root)\n\n    # Convert back to degrees\n    centroid = dict(\n        latitude=math.degrees(central_latitude),\n        longitude=math.degrees(central_longitude),\n    )\n    return centroid",
      "execution_count": null,
      "outputs": []
    },
    {
      "metadata": {},
      "cell_type": "markdown",
      "source": "We use this function by segmenting to a specific cluster and passing that cluster's points into the algorithm."
    },
    {
      "metadata": {
        "trusted": true
      },
      "cell_type": "code",
      "source": "find_centroid(world_data[world_data['cluster'] == 1])",
      "execution_count": null,
      "outputs": []
    },
    {
      "metadata": {},
      "cell_type": "markdown",
      "source": "## Extract Information about World Clusters"
    },
    {
      "metadata": {
        "trusted": true
      },
      "cell_type": "code",
      "source": "def analyze_clusters(data, data_map):\n    \"\"\"\n    Find the centers of each cluster and the number of points in a cluster.\n    \"\"\"\n    clusters = []\n\n    # Iterate through each cluster\n    for cluster, grouped in data.groupby(\"cluster\"):\n        # Find the center location of the cluster\n        cluster_centroid = find_centroid(grouped)\n\n        # Convert the center to x, y in the map projection system\n        x, y = data_map(cluster_centroid[\"longitude\"], cluster_centroid[\"latitude\"])\n\n        # Record the cluster number, count of points in cluster, and location of cluster center\n        clusters.append(\n            dict(\n                cluster=cluster,\n                count=len(grouped),\n                longitude=cluster_centroid[\"longitude\"],\n                latitude=cluster_centroid[\"latitude\"],\n                x=x,\n                y=y,\n            )\n        )\n\n    return clusters\n\n\nworld_clusters = analyze_clusters(world_data, world_m)\nworld_clusters[:2]",
      "execution_count": null,
      "outputs": []
    },
    {
      "metadata": {},
      "cell_type": "markdown",
      "source": "## Visualizing Cluster Centers"
    },
    {
      "metadata": {
        "trusted": true
      },
      "cell_type": "code",
      "source": "plot_clusters(world_data, cluster_centers=world_clusters)",
      "execution_count": null,
      "outputs": []
    },
    {
      "metadata": {
        "trusted": true
      },
      "cell_type": "code",
      "source": "world_data = world_data.merge(\n    pd.DataFrame(world_clusters), on=[\"cluster\"], suffixes=[\"\", \"_cluster_center\"]\n)\nworld_data.head()",
      "execution_count": null,
      "outputs": []
    },
    {
      "metadata": {},
      "cell_type": "markdown",
      "source": "## Distance between Headline and Cluster Center\n\nAn accurate calculation of the distance on a globe requires using the Great Circle distance. We can use the Haversine formula to calculate the distance along the spherical Earth between each point and the center of the cluster to which it is assigned.\n"
    },
    {
      "metadata": {
        "trusted": true
      },
      "cell_type": "code",
      "source": "import numpy as np\n\ndef haversine_formula_two_arrays(\n    longitude_one, latitude_one, longitude_two, latitude_two\n):\n    \"\"\"\n    Calculate the Great Circle distance between two points \n    using the Haversine Formula. Latitude and Longitude are in degrees.\n    \n    Source: https://stackoverflow.com/a/4913653/5755357\n    \"\"\"\n    # Convert to radians\n    longitude_one, latitude_one, longitude_two, latitude_two = map(\n        np.radians, [longitude_one, latitude_one, longitude_two, latitude_two]\n    )\n\n    # Apply Haversine formula\n    delta_longitude = longitude_two - longitude_one\n    delta_latitude = latitude_two - latitude_one\n    # Formula\n    a = (\n        np.sin(delta_latitude / 2) ** 2\n        + np.cos(latitude_one) * np.cos(latitude_two) * np.sin(delta_longitude / 2) ** 2\n    )\n    # Convert from radians to km\n    d = 2 * np.arcsin(np.sqrt(a))\n    radius_miles = 3956\n    return d * radius_miles",
      "execution_count": null,
      "outputs": []
    },
    {
      "metadata": {
        "trusted": true
      },
      "cell_type": "code",
      "source": "world_data[\"distance\"] = haversine_formula_two_arrays(\n    world_data[\"longitude\"],\n    world_data[\"latitude\"],\n    world_data[\"longitude_cluster_center\"],\n    world_data[\"latitude_cluster_center\"],\n)\n_ = world_data[\"distance\"].plot.hist(\n    title=\"Distribution of Distance to Cluster Centers\", figsize=(16, 10), edgecolor='k',\n)\nplt.xlabel('Distance (miles)');",
      "execution_count": null,
      "outputs": []
    },
    {
      "metadata": {},
      "cell_type": "markdown",
      "source": "### Distribution of Distance to Cluster Centers\n"
    },
    {
      "metadata": {
        "trusted": true
      },
      "cell_type": "code",
      "source": "import seaborn as sns\n\nplt.figure(figsize=(16, 10))\n\nfor cluster, grouped in world_data.groupby(\"cluster\"):\n    if len(grouped) < 10:\n        continue\n    else:\n        sns.kdeplot(grouped[\"distance\"], label=f\"{cluster}\")\n\nax = plt.gca()\n_ = ax.set_title(\"Distribution of Distances from Cluster Centers\")\n_ = ax.set_xlabel(\"Distance (miles)\")\n_ = ax.set_ylabel(\"Density\")",
      "execution_count": null,
      "outputs": []
    },
    {
      "metadata": {},
      "cell_type": "markdown",
      "source": "## Sort Clusters by Size and Distance to Center"
    },
    {
      "metadata": {
        "trusted": true
      },
      "cell_type": "code",
      "source": "world_data = world_data.sort_values(by=['count', 'distance'], ascending=[False, True])\nworld_data.head()",
      "execution_count": null,
      "outputs": []
    },
    {
      "metadata": {
        "trusted": true
      },
      "cell_type": "code",
      "source": "world_data.tail()",
      "execution_count": null,
      "outputs": []
    },
    {
      "metadata": {},
      "cell_type": "markdown",
      "source": "# Look for Patterns in Headlines\n\nFor each cluster, we'll look at the top 5 headlines as measured by closest distance to the cluster center."
    },
    {
      "metadata": {
        "trusted": true
      },
      "cell_type": "code",
      "source": "for cluster, grouped in world_data.groupby(\"cluster\"):\n    print(\"\\nCluster\", cluster)\n    print(\"Number of headlines: \", len(grouped))\n    print(\"Top 5 Headlines\")\n    print(list(grouped.nsmallest(n=5, columns=\"distance\")[\"headline\"]))",
      "execution_count": null,
      "outputs": []
    },
    {
      "metadata": {},
      "cell_type": "markdown",
      "source": "## World Disease Outbreaks"
    },
    {
      "metadata": {},
      "cell_type": "markdown",
      "source": "We have identified several outbreaks! Based on the headlines, we can draw the following conclusions about the clusters:\n\n\n* -1: No outbreak\n* 0: Zika outbreak\n* 1: Mad Cow outbreak\n* 2: Zika outbreak\n* 3: No outbreak\n* 4: No outbreak\n* 5: Zika outbreak\n* 6: No outbreak\n\n\nNext, we want to locate each outbreak. We'll do this by visualizing them on a map."
    },
    {
      "metadata": {},
      "cell_type": "markdown",
      "source": "## Visualizing World Outbreaks"
    },
    {
      "metadata": {
        "trusted": true
      },
      "cell_type": "code",
      "source": "world_outbreak_mapping = {0: \"Zika\", 1: \"Mad Cow\", 2: \"Zika\", 5: \"Zika\"}\n\nplot_clusters(\n    world_data[world_data[\"cluster\"].isin(world_outbreak_mapping.keys())],\n    label_outbreak=world_outbreak_mapping,\n)\nax = plt.gca()\n_ = ax.set_title(\"Locations of World Headlines and Outbreaks\")",
      "execution_count": null,
      "outputs": []
    },
    {
      "metadata": {},
      "cell_type": "markdown",
      "source": "We now can make the following observations:\n\n* There is a Zika outbreak on the East Coast of South America\n* There is a Zika outbreak in East Asia\n* There is a Mad Cow outbreak in Europe\n* There is a Zika outbreak in India\n\nLet's look at the total number of headlines associated with each disease according to the clustering."
    },
    {
      "metadata": {
        "trusted": true
      },
      "cell_type": "code",
      "source": "world_data[\"disease\"] = world_data[\"cluster\"].map(world_outbreak_mapping)\nworld_data[\"disease\"].value_counts()",
      "execution_count": null,
      "outputs": []
    },
    {
      "metadata": {},
      "cell_type": "markdown",
      "source": "# Analysis of United States Outbreaks"
    },
    {
      "metadata": {
        "trusted": true
      },
      "cell_type": "code",
      "source": "us_clusters = analyze_clusters(us_data, us_m)\nus_clusters[:2]",
      "execution_count": null,
      "outputs": []
    },
    {
      "metadata": {
        "trusted": true
      },
      "cell_type": "code",
      "source": "plot_clusters(us_data, plot_us=True, cluster_centers=us_clusters)",
      "execution_count": null,
      "outputs": []
    },
    {
      "metadata": {
        "trusted": true
      },
      "cell_type": "code",
      "source": "us_data = us_data.merge(\n    pd.DataFrame(us_clusters), on=[\"cluster\"], suffixes=[\"\", \"_cluster_center\"]\n)\nus_data.head()",
      "execution_count": null,
      "outputs": []
    },
    {
      "metadata": {},
      "cell_type": "markdown",
      "source": "### Distance from Headlines to Cluster Centers"
    },
    {
      "metadata": {
        "trusted": true
      },
      "cell_type": "code",
      "source": "us_data[\"distance\"] = haversine_formula_two_arrays(\n    us_data[\"longitude\"],\n    us_data[\"latitude\"],\n    us_data[\"longitude_cluster_center\"],\n    us_data[\"latitude_cluster_center\"],\n)\n\nplt.figure(figsize=(16, 10))\n\nfor cluster, grouped in us_data.groupby(\"cluster\"):\n    sns.kdeplot(grouped[\"distance\"], label=f\"{cluster}\")\n\nax = plt.gca()\n_ = ax.set_title(\"Distribution of Distances from US Cluster Centers\")\n_ = ax.set_xlabel(\"Distance (miles)\")\n_ = ax.set_ylabel(\"Density\")",
      "execution_count": null,
      "outputs": []
    },
    {
      "metadata": {
        "trusted": true
      },
      "cell_type": "code",
      "source": "us_data = us_data.sort_values(by=['count', 'distance'], ascending=[False, True])\nus_data.head()",
      "execution_count": null,
      "outputs": []
    },
    {
      "metadata": {
        "trusted": true
      },
      "cell_type": "code",
      "source": "us_data.tail()",
      "execution_count": null,
      "outputs": []
    },
    {
      "metadata": {},
      "cell_type": "markdown",
      "source": "## Examine Headlines from Each Cluster"
    },
    {
      "metadata": {
        "trusted": true
      },
      "cell_type": "code",
      "source": "for cluster, grouped in us_data.groupby(\"cluster\"):\n    print(\"\\nCluster\", cluster)\n    print(\"Number of headlines: \", len(grouped))\n    print(\"Top 10 Headlines\")\n    print(list(grouped.nsmallest(n=10, columns=\"distance\")[\"headline\"]))",
      "execution_count": null,
      "outputs": []
    },
    {
      "metadata": {
        "trusted": true
      },
      "cell_type": "code",
      "source": "There are only 2 clusters with repeated disease mentions in the United States. Both of them are associated with Zika.\n\nCluster -1: No outbreak\nCluster 0: Zika Outbreak\nCluster 1: No outbreak\nCluster 2: Zika Outbreak\nCluster 3: No outbreak\nCluster 4: No outbreak\nCluster 5: No outbreak\nCluster 6: No outbreak\nLet's update the cluster map to show the United States outbreaks.",
      "execution_count": null,
      "outputs": []
    },
    {
      "metadata": {
        "trusted": true
      },
      "cell_type": "code",
      "source": "us_outbreak_mapping = {0: \"Zika\", 2: \"Zika\"}\n\nplot_clusters(\n    us_data[us_data[\"cluster\"].isin(us_outbreak_mapping.keys())],\n    plot_us=True,\n    label_outbreak=us_outbreak_mapping,\n)\nax = plt.gca()\n_ = ax.set_title(\"Locations of US Headlines and Outbreaks\")",
      "execution_count": null,
      "outputs": []
    },
    {
      "metadata": {},
      "cell_type": "markdown",
      "source": "We can draw the following conclusions about the United States:\n\n* A Zika outbreak in Texas\n* A Zika outbreak in the Eastern South\n\nLet's look at the value counts of US disease clusters."
    },
    {
      "metadata": {
        "trusted": true
      },
      "cell_type": "code",
      "source": "us_data['disease'] = us_data['cluster'].map(us_outbreak_mapping)\nus_data['disease'].value_counts()",
      "execution_count": null,
      "outputs": []
    },
    {
      "metadata": {},
      "cell_type": "markdown",
      "source": "# Final Plot of Worldwide Outbreak\n\nFirst, we'll join together the US and world data, keeping only those that were in a Zika cluster. \n\n## Find All Zika Cases\n\nNow that we have determined zika is the major disease outbreak, we can find all mentions using simple text matching. We can use Pandas string methods to find the headlines mentioning Zika and plot these."
    },
    {
      "metadata": {
        "trusted": true
      },
      "cell_type": "code",
      "source": "zika_data = pd.concat([us_data, world_data])\n\n# Keep only headlines matching \"Zika\"\nzika_data = zika_data[zika_data[\"headline\"].str.lower().str.contains('zika', na=False)]",
      "execution_count": null,
      "outputs": []
    },
    {
      "metadata": {
        "trusted": true
      },
      "cell_type": "code",
      "source": "zika_world = zika_data[zika_data[\"countrycode\"] != \"US\"]\nprint(f\"There are {len(zika_world)} Zika cases around the world.\")\n\nzika_us = zika_data[zika_data[\"countrycode\"] == \"US\"]\nprint(f\"There are {len(zika_us)} Zika cases in the United States.\")",
      "execution_count": null,
      "outputs": []
    },
    {
      "metadata": {
        "trusted": true
      },
      "cell_type": "code",
      "source": "_ = (\n    zika_world[\"cluster\"]\n    .value_counts()\n    .plot.bar(title=\"Zika Outbreak World Cluster Counts\", figsize=(12, 8))\n)",
      "execution_count": null,
      "outputs": []
    },
    {
      "metadata": {
        "trusted": true
      },
      "cell_type": "code",
      "source": "_ = (\n    zika_us[\"cluster\"]\n    .value_counts()\n    .plot.bar(title=\"Zika Outbreak US Cluster Counts\", figsize=(12, 8))\n)",
      "execution_count": null,
      "outputs": []
    },
    {
      "metadata": {
        "trusted": true
      },
      "cell_type": "code",
      "source": "zika_data[\"x\"], zika_data[\"y\"] = world_m(\n    x=zika_data[\"longitude\"], y=zika_data[\"latitude\"]\n)\n\nplot_clusters(zika_data[zika_data['cluster'] != -1])\nax = plt.gca()\n_ = ax.set_title(\"Locations of All Zika Headlines in a Cluster\")",
      "execution_count": null,
      "outputs": []
    },
    {
      "metadata": {},
      "cell_type": "markdown",
      "source": "We can clearly see there are 4 major outbreaks:\n\n* South-eastern United States and Central America\n* Eastern South America\n* India\n* Oceania and Eastern Asia\n\nThese are the areas to which we should direct medical assistance!"
    },
    {
      "metadata": {
        "trusted": true
      },
      "cell_type": "code",
      "source": "major_clusters = zika_data[zika_data['cluster'].isin([0, 2, 3, 5])]\nplot_clusters(major_clusters)\nax = plt.gca()\n_ = ax.set_title(\"Locations of Major Zika Outbreaks\");\nax.get_legend().remove()\nplt.savefig('../figs/completed_map.png');",
      "execution_count": null,
      "outputs": []
    },
    {
      "metadata": {
        "trusted": true
      },
      "cell_type": "code",
      "source": "zika_us[zika_us['cluster'].isin([0, 2, 3, 5])]['cluster'].value_counts()",
      "execution_count": null,
      "outputs": []
    },
    {
      "metadata": {
        "trusted": true
      },
      "cell_type": "code",
      "source": "zika_world[zika_world['cluster'].isin([0, 2, 3, 5])]['cluster'].value_counts()",
      "execution_count": null,
      "outputs": []
    },
    {
      "metadata": {
        "trusted": true
      },
      "cell_type": "code",
      "source": "plot_clusters(major_clusters)\nax = plt.gca()\n_ = ax.set_title(\"Locations of Major Zika Outbreaks\");\nplt.savefig('final_outbreak_map.png')",
      "execution_count": null,
      "outputs": []
    },
    {
      "metadata": {},
      "cell_type": "markdown",
      "source": "### Counts of Zika Cases in Each Outbreak\n\n* Mid-South United States and Central America: 106 headlines\n* East Asia: 39 headlines\n* Eastern South America: 18 headlines\n* India: 9 headlines"
    },
    {
      "metadata": {
        "trusted": true
      },
      "cell_type": "code",
      "source": "plot_clusters(zika_data[zika_data['cluster'].isin([0, 2, 3, 5])].sample(frac=0.1))\nax = plt.gca()\nplt.rcParams['font.size'] = 22\n_ = ax.set_title(\"Sample of Headlines Mentioning Epidemic Disease X\")",
      "execution_count": null,
      "outputs": []
    },
    {
      "metadata": {
        "trusted": true
      },
      "cell_type": "code",
      "source": "zika_data.to_csv(\"zika_outbreaks.csv\")\nmajor_clusters.to_csv('major_clusters.csv')",
      "execution_count": null,
      "outputs": []
    },
    {
      "metadata": {},
      "cell_type": "markdown",
      "source": "# Output\n\nThe end output from this section is a listing of the headlines in the major disease outbreaks along with a world map of the same headlines. The text information can be used for further analysis, and the map shows an overview of the issue (and would make for a good graphic in an article). We will place this map in the Executive Summary. "
    },
    {
      "metadata": {
        "trusted": true
      },
      "cell_type": "code",
      "source": "zika_data[zika_data['cluster'].isin([0, 2, 3, 5])][['headline', 'city', 'latitude', 'longitude', 'countrycode', 'cluster']].head(10)",
      "execution_count": null,
      "outputs": []
    },
    {
      "metadata": {
        "trusted": true
      },
      "cell_type": "code",
      "source": "from IPython.display import Image\n\nImage('final_outbreak_map.png')",
      "execution_count": null,
      "outputs": []
    },
    {
      "metadata": {
        "trusted": true
      },
      "cell_type": "code",
      "source": "zika_data.tail(10)",
      "execution_count": null,
      "outputs": []
    }
  ],
  "metadata": {
    "kernelspec": {
      "name": "python36",
      "display_name": "Python 3.6",
      "language": "python"
    },
    "language_info": {
      "mimetype": "text/x-python",
      "nbconvert_exporter": "python",
      "name": "python",
      "pygments_lexer": "ipython3",
      "version": "3.6.6",
      "file_extension": ".py",
      "codemirror_mode": {
        "version": 3,
        "name": "ipython"
      }
    }
  },
  "nbformat": 4,
  "nbformat_minor": 1
}